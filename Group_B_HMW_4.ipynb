{
 "cells": [
  {
   "cell_type": "markdown",
   "id": "96feacf2183acc82",
   "metadata": {
    "collapsed": true
   },
   "source": [
    "# DFA and Factor Investing"
   ]
  },
  {
   "cell_type": "markdown",
   "id": "197abad4",
   "metadata": {},
   "source": [
    "### 2. The Factors\n",
    "DFA believes certain stocks have higher expected excess returns. In addition to the overall market equity premium, DFA believes that there is a premium attached to a size and value factor. Note that these three factors are already listed as excess returns."
   ]
  },
  {
   "cell_type": "markdown",
   "id": "aa325b15",
   "metadata": {},
   "source": [
    "Data\n",
    "\n",
    "Use the data found in data/dfa_analysis_data.xlsx.\n",
    "\n",
    "Monthly excess return data for the overall equity market, \n",
    ".\n",
    "\n",
    "The sheet also contains data on two additional factors, SMB and HML, as well as the risk-free rate.\n",
    "\n",
    "You do not need any of these columns for the homework. Just use the MKT column, which is excess market returns. (So no need to subtract the risk-free rate.)"
   ]
  },
  {
   "cell_type": "markdown",
   "id": "b4963c3f",
   "metadata": {},
   "source": [
    "1. The Factors\n",
    "Calculate their univariate performance statistics:\n",
    "\n",
    "mean\n",
    "\n",
    "volatility\n",
    "\n",
    "Sharpe\n",
    "\n",
    "VaR(.05)\n",
    "\n",
    "Report these for the following three subsamples:\n",
    "\n",
    "Beginning - 1980\n",
    "\n",
    "1981 - 2001\n",
    "\n",
    "2002 - End"
   ]
  },
  {
   "cell_type": "code",
   "execution_count": null,
   "id": "6499b850c004a789",
   "metadata": {
    "ExecuteTime": {
     "end_time": "2025-10-21T23:53:49.917916Z",
     "start_time": "2025-10-21T23:53:49.916713Z"
    }
   },
   "outputs": [],
   "source": []
  }
 ],
 "metadata": {
  "kernelspec": {
   "display_name": "Python 3",
   "language": "python",
   "name": "python3"
  },
  "language_info": {
   "codemirror_mode": {
    "name": "ipython",
    "version": 3
   },
   "file_extension": ".py",
   "mimetype": "text/x-python",
   "name": "python",
   "nbconvert_exporter": "python",
   "pygments_lexer": "ipython3",
   "version": "3.12.10"
  }
 },
 "nbformat": 4,
 "nbformat_minor": 5
}
