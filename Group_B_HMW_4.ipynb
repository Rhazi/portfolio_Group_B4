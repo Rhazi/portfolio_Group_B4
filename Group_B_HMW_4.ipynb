{
 "cells": [
  {
   "metadata": {
    "collapsed": true
   },
   "cell_type": "markdown",
   "source": "DFA and Factor Investing",
   "id": "96feacf2183acc82"
  },
  {
   "metadata": {
    "ExecuteTime": {
     "end_time": "2025-10-21T23:53:49.917916Z",
     "start_time": "2025-10-21T23:53:49.916713Z"
    }
   },
   "cell_type": "code",
   "source": "",
   "id": "6499b850c004a789",
   "outputs": [],
   "execution_count": null
  }
 ],
 "metadata": {
  "kernelspec": {
   "display_name": "Python 3",
   "language": "python",
   "name": "python3"
  },
  "language_info": {
   "codemirror_mode": {
    "name": "ipython",
    "version": 2
   },
   "file_extension": ".py",
   "mimetype": "text/x-python",
   "name": "python",
   "nbconvert_exporter": "python",
   "pygments_lexer": "ipython2",
   "version": "2.7.6"
  }
 },
 "nbformat": 4,
 "nbformat_minor": 5
}
