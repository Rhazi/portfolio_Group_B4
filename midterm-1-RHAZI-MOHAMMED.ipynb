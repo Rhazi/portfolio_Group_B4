{
 "cells": [
  {
   "cell_type": "markdown",
   "metadata": {},
   "source": [
    "# Open Midterm 1\n",
    "\n",
    "## FINM 36700 - 2025\n",
    "\n",
    "### UChicago Financial Mathematics\n",
    "\n",
    "* Mark Hendricks\n",
    "* hendricks@uchicago.edu"
   ]
  },
  {
   "cell_type": "markdown",
   "metadata": {},
   "source": [
    "***"
   ]
  },
  {
   "cell_type": "markdown",
   "metadata": {},
   "source": [
    "# Instructions"
   ]
  },
  {
   "cell_type": "markdown",
   "metadata": {},
   "source": [
    "## Please note the following:\n",
    "\n",
    "Points\n",
    "* For every minute late you submit the exam, you will lose one point.\n",
    "\n",
    "Rules\n",
    "* The exam is open-material, closed-communication.\n",
    "\n",
    "Advice\n",
    "* If you find any question to be unclear, state your interpretation and proceed. We will only answer questions of interpretation if there is a typo, error, etc."
   ]
  },
  {
   "cell_type": "markdown",
   "metadata": {},
   "source": [
    "## Data\n",
    "\n",
    "**All data files are found in at the course web-book.**\n",
    "\n",
    "https://markhendricks.github.io/finm-portfolio/. "
   ]
  },
  {
   "cell_type": "markdown",
   "metadata": {},
   "source": [
    "## Scoring\n",
    "\n",
    "| Problem | Points |\n",
    "|---------|--------|\n",
    "| 1       | 70     |\n",
    "| 2       | 30     |\n",
    "\n",
    "**Numbered problems are worth 5pts unless specified otherwise.**"
   ]
  },
  {
   "cell_type": "markdown",
   "metadata": {},
   "source": [
    "***"
   ]
  },
  {
   "cell_type": "markdown",
   "metadata": {},
   "source": [
    "## Submitting your Exam"
   ]
  },
  {
   "cell_type": "markdown",
   "metadata": {},
   "source": [
    "Your submitted file (ipynb or .zip) must be named in the format...\n",
    "* `midterm-1-LASTNAME-FIRSTNAME.ipynb`\n",
    "* `midterm-1-LASTNAME-FIRSTNAME.zip`\n",
    "\n",
    "Submit the exam via\n",
    "* Canvas at Assignments/Midterm 1\n",
    "* If there is any trouble with Canvas, or for a backup, submit it at the course web-book\n",
    "https://markhendricks.github.io/finm-portfolio/. \n",
    "\n",
    "Your submission must be complete.\n",
    "* If we can't run the notebook to reproduce, it is not complete.\n",
    "\n",
    "You should either...\n",
    "* include all helper functions at the top of this notebook in the `Solution Functions` sections.\n",
    "* submit a zipped folder containing the solution functions"
   ]
  },
  {
   "cell_type": "markdown",
   "metadata": {},
   "source": [
    "__Exam Submission Structure:__\n",
    "\n",
    "If you are submitting a zipped folder (because you cannot make the ipynb stand-alone) then use this structure...\n",
    "\n",
    "```plaintext\n",
    "exam-open-LASTNAME-FIRSTNAME.zip/\n",
    "│── exam-open.ipynb\n",
    "│── data/\n",
    "│   ├── example_data.csv\n",
    "│── modules/\n",
    "│   ├── my_functions.py"
   ]
  },
  {
   "cell_type": "markdown",
   "metadata": {},
   "source": [
    "***"
   ]
  },
  {
   "cell_type": "markdown",
   "metadata": {},
   "source": [
    "## Your Functions\n",
    "\n",
    "Please put all functions needed to run the ipynb here.\n",
    "\n",
    "* We must be able to run the notebook!\n",
    "* If you can't get all the functions into this ipynb, then make sure to zip your ipynb and supporting materials and submit the zipped folder.\n",
    "* But most of you should be able to submit a single, stand-alone ipynb."
   ]
  },
  {
   "cell_type": "code",
   "metadata": {
    "ExecuteTime": {
     "end_time": "2025-10-21T01:18:34.600867Z",
     "start_time": "2025-10-21T01:18:34.595393Z"
    }
   },
   "source": [],
   "outputs": [],
   "execution_count": null
  },
  {
   "cell_type": "markdown",
   "metadata": {},
   "source": [
    "***"
   ]
  },
  {
   "cell_type": "markdown",
   "metadata": {},
   "source": [
    "## Citations\n",
    "\n",
    "### AI\n",
    "\n",
    "List any AI tools used in the exam. No need to list prompts, but rather just AI models or IDE integrations.\n",
    "\n",
    "I expect most students will have something to list here.\n"
   ]
  },
  {
   "cell_type": "markdown",
   "metadata": {},
   "source": [
    "\n",
    "* chat GPT plus\n",
    "* \n",
    "* \n",
    "\n"
   ]
  },
  {
   "cell_type": "markdown",
   "metadata": {},
   "source": [
    "### Other resources\n",
    "\n",
    "Please list any other resources **aside from course materials** from which you used substantially. (No need to list every Google search; just materials from which you used substantially or for specific, original content.) \n",
    "\n",
    "I expect most students will not have anything to list here."
   ]
  },
  {
   "cell_type": "markdown",
   "metadata": {},
   "source": [
    "* \n",
    "* \n",
    "* "
   ]
  },
  {
   "cell_type": "markdown",
   "metadata": {},
   "source": [
    "***"
   ]
  },
  {
   "cell_type": "markdown",
   "metadata": {},
   "source": [
    "# Your Name\n",
    "\n",
    "List your name and CNetID"
   ]
  },
  {
   "cell_type": "markdown",
   "metadata": {},
   "source": [
    "* Name: Mohammed Rhazi\n",
    "* CNetID: 12506615"
   ]
  },
  {
   "cell_type": "markdown",
   "metadata": {},
   "source": [
    "***"
   ]
  },
  {
   "cell_type": "markdown",
   "metadata": {},
   "source": [
    "# 1. Portfolio Analysis"
   ]
  },
  {
   "cell_type": "markdown",
   "metadata": {},
   "source": [
    "### Data\n",
    "\n",
    "Use the data in `data/midterm_1_stock_returns.xlsx`.\n",
    "\n",
    "The returns are...\n",
    "* excess returns\n",
    "* weekly\n",
    "* through `May 2025`\n",
    "\n",
    "It has returns for\n",
    "* `25` single-name equities\n",
    "* `SPY`"
   ]
  },
  {
   "cell_type": "code",
   "metadata": {
    "ExecuteTime": {
     "end_time": "2025-10-21T01:18:34.737115Z",
     "start_time": "2025-10-21T01:18:34.609248Z"
    }
   },
   "source": [
    "import pandas as pd\n",
    "import numpy as np\n",
    "import matplotlib.pyplot as plt\n",
    "\n",
    "#DATAFILE_STOCKS = '../data/midterm_1_stock_returns.xlsx'\n",
    "DATAFILE_STOCKS = 'midterm_1_stock_returns.xlsx'\n",
    "\n",
    "SHEET = 'stock rets'\n",
    "rets = pd.read_excel(DATAFILE_STOCKS, sheet_name=SHEET, index_col='date', parse_dates=['date'])\n",
    "\n",
    "SHEET = 'benchmark rets'\n",
    "spy = pd.read_excel(DATAFILE_STOCKS, sheet_name=SHEET, index_col='date', parse_dates=['date'])\n",
    "\n",
    "display(rets)\n",
    "display(spy)"
   ],
   "outputs": [
    {
     "data": {
      "text/plain": [
       "                ADSK       AOS      BKNG      CBRE       CCI        CF  \\\n",
       "date                                                                     \n",
       "2015-01-09 -0.021166 -0.008927 -0.078893 -0.000577  0.026536  0.069378   \n",
       "2015-01-16 -0.024369 -0.015313 -0.041579 -0.045022  0.012374  0.001515   \n",
       "2015-01-23  0.023571  0.016282  0.029527 -0.004231  0.050829  0.013841   \n",
       "2015-01-30 -0.071920  0.069487 -0.027466 -0.018513 -0.003684  0.012031   \n",
       "2015-02-06  0.056754  0.037577  0.012818  0.048856  0.001733 -0.028619   \n",
       "...              ...       ...       ...       ...       ...       ...   \n",
       "2025-04-25  0.040313  0.029300  0.057973  0.026441 -0.032822  0.047663   \n",
       "2025-05-02  0.037269  0.058609  0.075305  0.048372  0.066673  0.027144   \n",
       "2025-05-09  0.026751 -0.002337 -0.025037  0.000158 -0.017498  0.022457   \n",
       "2025-05-16  0.036872  0.032655  0.048207  0.039656 -0.025524  0.071393   \n",
       "2025-05-23 -0.009159 -0.049631  0.002958 -0.079629 -0.021110  0.012645   \n",
       "\n",
       "                CHRW        DE       DGX       DTE  ...       MRK       MTD  \\\n",
       "date                                                ...                       \n",
       "2015-01-09 -0.024107 -0.030450 -0.003635 -0.002414  ...  0.093897 -0.008843   \n",
       "2015-01-16  0.019290  0.019265  0.019738  0.036405  ...  0.007512 -0.024325   \n",
       "2015-01-23  0.009121  0.012027  0.016490  0.014229  ... -0.008567  0.037842   \n",
       "2015-01-30 -0.039124 -0.035766  0.002540 -0.017317  ... -0.035366  0.002970   \n",
       "2015-02-06 -0.009970  0.044489 -0.020120 -0.049186  ... -0.024717  0.016318   \n",
       "...              ...       ...       ...       ...  ...       ...       ...   \n",
       "2025-04-25 -0.015252  0.015993  0.060806  0.009060  ...  0.060769  0.056550   \n",
       "2025-05-02  0.012034  0.048705  0.024114  0.011873  ...  0.005318  0.035996   \n",
       "2025-05-09 -0.020478  0.022692 -0.005563 -0.001760  ... -0.086679 -0.017300   \n",
       "2025-05-16  0.127122  0.078928  0.005708  0.014326  ...  0.001185  0.070732   \n",
       "2025-05-23 -0.045174 -0.040303 -0.037872 -0.012675  ...  0.019984 -0.037410   \n",
       "\n",
       "                  PG       PNR      SBAC       STE      TTWO      VTRS  \\\n",
       "date                                                                     \n",
       "2015-01-09 -0.002101 -0.023393 -0.001091  0.013659 -0.008009 -0.009050   \n",
       "2015-01-16  0.011081 -0.009830 -0.012042 -0.020590  0.048080  0.002865   \n",
       "2015-01-23 -0.005804 -0.003565  0.080951  0.023033  0.022253 -0.031965   \n",
       "2015-01-30 -0.064277 -0.033041 -0.014190 -0.014506 -0.004689 -0.019552   \n",
       "2015-02-06  0.015660  0.040609  0.010108  0.026985 -0.031460  0.013922   \n",
       "...              ...       ...       ...       ...       ...       ...   \n",
       "2025-04-25 -0.050440  0.119960 -0.030426  0.012465  0.059266  0.075389   \n",
       "2025-05-02 -0.003105  0.036556  0.089469 -0.000845 -0.026089  0.063966   \n",
       "2025-05-09 -0.017817  0.001822 -0.009381  0.007206  0.032118  0.013872   \n",
       "2025-05-16  0.035646  0.081532 -0.027580  0.111116  0.000839  0.007980   \n",
       "2025-05-23  0.015801 -0.042442 -0.010536 -0.034143 -0.007718 -0.048788   \n",
       "\n",
       "                  WM       WMT  \n",
       "date                            \n",
       "2015-01-09 -0.004251  0.040160  \n",
       "2015-01-16  0.013778 -0.028873  \n",
       "2015-01-23  0.014548  0.020053  \n",
       "2015-01-30 -0.029622 -0.039883  \n",
       "2015-02-06  0.019639  0.027653  \n",
       "...              ...       ...  \n",
       "2025-04-25 -0.011260  0.020059  \n",
       "2025-05-02  0.024660  0.038490  \n",
       "2025-05-09 -0.005087 -0.018189  \n",
       "2025-05-16 -0.012374  0.015715  \n",
       "2025-05-23  0.030191 -0.019340  \n",
       "\n",
       "[542 rows x 25 columns]"
      ],
      "text/html": [
       "<div>\n",
       "<style scoped>\n",
       "    .dataframe tbody tr th:only-of-type {\n",
       "        vertical-align: middle;\n",
       "    }\n",
       "\n",
       "    .dataframe tbody tr th {\n",
       "        vertical-align: top;\n",
       "    }\n",
       "\n",
       "    .dataframe thead th {\n",
       "        text-align: right;\n",
       "    }\n",
       "</style>\n",
       "<table border=\"1\" class=\"dataframe\">\n",
       "  <thead>\n",
       "    <tr style=\"text-align: right;\">\n",
       "      <th></th>\n",
       "      <th>ADSK</th>\n",
       "      <th>AOS</th>\n",
       "      <th>BKNG</th>\n",
       "      <th>CBRE</th>\n",
       "      <th>CCI</th>\n",
       "      <th>CF</th>\n",
       "      <th>CHRW</th>\n",
       "      <th>DE</th>\n",
       "      <th>DGX</th>\n",
       "      <th>DTE</th>\n",
       "      <th>...</th>\n",
       "      <th>MRK</th>\n",
       "      <th>MTD</th>\n",
       "      <th>PG</th>\n",
       "      <th>PNR</th>\n",
       "      <th>SBAC</th>\n",
       "      <th>STE</th>\n",
       "      <th>TTWO</th>\n",
       "      <th>VTRS</th>\n",
       "      <th>WM</th>\n",
       "      <th>WMT</th>\n",
       "    </tr>\n",
       "    <tr>\n",
       "      <th>date</th>\n",
       "      <th></th>\n",
       "      <th></th>\n",
       "      <th></th>\n",
       "      <th></th>\n",
       "      <th></th>\n",
       "      <th></th>\n",
       "      <th></th>\n",
       "      <th></th>\n",
       "      <th></th>\n",
       "      <th></th>\n",
       "      <th></th>\n",
       "      <th></th>\n",
       "      <th></th>\n",
       "      <th></th>\n",
       "      <th></th>\n",
       "      <th></th>\n",
       "      <th></th>\n",
       "      <th></th>\n",
       "      <th></th>\n",
       "      <th></th>\n",
       "      <th></th>\n",
       "    </tr>\n",
       "  </thead>\n",
       "  <tbody>\n",
       "    <tr>\n",
       "      <th>2015-01-09</th>\n",
       "      <td>-0.021166</td>\n",
       "      <td>-0.008927</td>\n",
       "      <td>-0.078893</td>\n",
       "      <td>-0.000577</td>\n",
       "      <td>0.026536</td>\n",
       "      <td>0.069378</td>\n",
       "      <td>-0.024107</td>\n",
       "      <td>-0.030450</td>\n",
       "      <td>-0.003635</td>\n",
       "      <td>-0.002414</td>\n",
       "      <td>...</td>\n",
       "      <td>0.093897</td>\n",
       "      <td>-0.008843</td>\n",
       "      <td>-0.002101</td>\n",
       "      <td>-0.023393</td>\n",
       "      <td>-0.001091</td>\n",
       "      <td>0.013659</td>\n",
       "      <td>-0.008009</td>\n",
       "      <td>-0.009050</td>\n",
       "      <td>-0.004251</td>\n",
       "      <td>0.040160</td>\n",
       "    </tr>\n",
       "    <tr>\n",
       "      <th>2015-01-16</th>\n",
       "      <td>-0.024369</td>\n",
       "      <td>-0.015313</td>\n",
       "      <td>-0.041579</td>\n",
       "      <td>-0.045022</td>\n",
       "      <td>0.012374</td>\n",
       "      <td>0.001515</td>\n",
       "      <td>0.019290</td>\n",
       "      <td>0.019265</td>\n",
       "      <td>0.019738</td>\n",
       "      <td>0.036405</td>\n",
       "      <td>...</td>\n",
       "      <td>0.007512</td>\n",
       "      <td>-0.024325</td>\n",
       "      <td>0.011081</td>\n",
       "      <td>-0.009830</td>\n",
       "      <td>-0.012042</td>\n",
       "      <td>-0.020590</td>\n",
       "      <td>0.048080</td>\n",
       "      <td>0.002865</td>\n",
       "      <td>0.013778</td>\n",
       "      <td>-0.028873</td>\n",
       "    </tr>\n",
       "    <tr>\n",
       "      <th>2015-01-23</th>\n",
       "      <td>0.023571</td>\n",
       "      <td>0.016282</td>\n",
       "      <td>0.029527</td>\n",
       "      <td>-0.004231</td>\n",
       "      <td>0.050829</td>\n",
       "      <td>0.013841</td>\n",
       "      <td>0.009121</td>\n",
       "      <td>0.012027</td>\n",
       "      <td>0.016490</td>\n",
       "      <td>0.014229</td>\n",
       "      <td>...</td>\n",
       "      <td>-0.008567</td>\n",
       "      <td>0.037842</td>\n",
       "      <td>-0.005804</td>\n",
       "      <td>-0.003565</td>\n",
       "      <td>0.080951</td>\n",
       "      <td>0.023033</td>\n",
       "      <td>0.022253</td>\n",
       "      <td>-0.031965</td>\n",
       "      <td>0.014548</td>\n",
       "      <td>0.020053</td>\n",
       "    </tr>\n",
       "    <tr>\n",
       "      <th>2015-01-30</th>\n",
       "      <td>-0.071920</td>\n",
       "      <td>0.069487</td>\n",
       "      <td>-0.027466</td>\n",
       "      <td>-0.018513</td>\n",
       "      <td>-0.003684</td>\n",
       "      <td>0.012031</td>\n",
       "      <td>-0.039124</td>\n",
       "      <td>-0.035766</td>\n",
       "      <td>0.002540</td>\n",
       "      <td>-0.017317</td>\n",
       "      <td>...</td>\n",
       "      <td>-0.035366</td>\n",
       "      <td>0.002970</td>\n",
       "      <td>-0.064277</td>\n",
       "      <td>-0.033041</td>\n",
       "      <td>-0.014190</td>\n",
       "      <td>-0.014506</td>\n",
       "      <td>-0.004689</td>\n",
       "      <td>-0.019552</td>\n",
       "      <td>-0.029622</td>\n",
       "      <td>-0.039883</td>\n",
       "    </tr>\n",
       "    <tr>\n",
       "      <th>2015-02-06</th>\n",
       "      <td>0.056754</td>\n",
       "      <td>0.037577</td>\n",
       "      <td>0.012818</td>\n",
       "      <td>0.048856</td>\n",
       "      <td>0.001733</td>\n",
       "      <td>-0.028619</td>\n",
       "      <td>-0.009970</td>\n",
       "      <td>0.044489</td>\n",
       "      <td>-0.020120</td>\n",
       "      <td>-0.049186</td>\n",
       "      <td>...</td>\n",
       "      <td>-0.024717</td>\n",
       "      <td>0.016318</td>\n",
       "      <td>0.015660</td>\n",
       "      <td>0.040609</td>\n",
       "      <td>0.010108</td>\n",
       "      <td>0.026985</td>\n",
       "      <td>-0.031460</td>\n",
       "      <td>0.013922</td>\n",
       "      <td>0.019639</td>\n",
       "      <td>0.027653</td>\n",
       "    </tr>\n",
       "    <tr>\n",
       "      <th>...</th>\n",
       "      <td>...</td>\n",
       "      <td>...</td>\n",
       "      <td>...</td>\n",
       "      <td>...</td>\n",
       "      <td>...</td>\n",
       "      <td>...</td>\n",
       "      <td>...</td>\n",
       "      <td>...</td>\n",
       "      <td>...</td>\n",
       "      <td>...</td>\n",
       "      <td>...</td>\n",
       "      <td>...</td>\n",
       "      <td>...</td>\n",
       "      <td>...</td>\n",
       "      <td>...</td>\n",
       "      <td>...</td>\n",
       "      <td>...</td>\n",
       "      <td>...</td>\n",
       "      <td>...</td>\n",
       "      <td>...</td>\n",
       "      <td>...</td>\n",
       "    </tr>\n",
       "    <tr>\n",
       "      <th>2025-04-25</th>\n",
       "      <td>0.040313</td>\n",
       "      <td>0.029300</td>\n",
       "      <td>0.057973</td>\n",
       "      <td>0.026441</td>\n",
       "      <td>-0.032822</td>\n",
       "      <td>0.047663</td>\n",
       "      <td>-0.015252</td>\n",
       "      <td>0.015993</td>\n",
       "      <td>0.060806</td>\n",
       "      <td>0.009060</td>\n",
       "      <td>...</td>\n",
       "      <td>0.060769</td>\n",
       "      <td>0.056550</td>\n",
       "      <td>-0.050440</td>\n",
       "      <td>0.119960</td>\n",
       "      <td>-0.030426</td>\n",
       "      <td>0.012465</td>\n",
       "      <td>0.059266</td>\n",
       "      <td>0.075389</td>\n",
       "      <td>-0.011260</td>\n",
       "      <td>0.020059</td>\n",
       "    </tr>\n",
       "    <tr>\n",
       "      <th>2025-05-02</th>\n",
       "      <td>0.037269</td>\n",
       "      <td>0.058609</td>\n",
       "      <td>0.075305</td>\n",
       "      <td>0.048372</td>\n",
       "      <td>0.066673</td>\n",
       "      <td>0.027144</td>\n",
       "      <td>0.012034</td>\n",
       "      <td>0.048705</td>\n",
       "      <td>0.024114</td>\n",
       "      <td>0.011873</td>\n",
       "      <td>...</td>\n",
       "      <td>0.005318</td>\n",
       "      <td>0.035996</td>\n",
       "      <td>-0.003105</td>\n",
       "      <td>0.036556</td>\n",
       "      <td>0.089469</td>\n",
       "      <td>-0.000845</td>\n",
       "      <td>-0.026089</td>\n",
       "      <td>0.063966</td>\n",
       "      <td>0.024660</td>\n",
       "      <td>0.038490</td>\n",
       "    </tr>\n",
       "    <tr>\n",
       "      <th>2025-05-09</th>\n",
       "      <td>0.026751</td>\n",
       "      <td>-0.002337</td>\n",
       "      <td>-0.025037</td>\n",
       "      <td>0.000158</td>\n",
       "      <td>-0.017498</td>\n",
       "      <td>0.022457</td>\n",
       "      <td>-0.020478</td>\n",
       "      <td>0.022692</td>\n",
       "      <td>-0.005563</td>\n",
       "      <td>-0.001760</td>\n",
       "      <td>...</td>\n",
       "      <td>-0.086679</td>\n",
       "      <td>-0.017300</td>\n",
       "      <td>-0.017817</td>\n",
       "      <td>0.001822</td>\n",
       "      <td>-0.009381</td>\n",
       "      <td>0.007206</td>\n",
       "      <td>0.032118</td>\n",
       "      <td>0.013872</td>\n",
       "      <td>-0.005087</td>\n",
       "      <td>-0.018189</td>\n",
       "    </tr>\n",
       "    <tr>\n",
       "      <th>2025-05-16</th>\n",
       "      <td>0.036872</td>\n",
       "      <td>0.032655</td>\n",
       "      <td>0.048207</td>\n",
       "      <td>0.039656</td>\n",
       "      <td>-0.025524</td>\n",
       "      <td>0.071393</td>\n",
       "      <td>0.127122</td>\n",
       "      <td>0.078928</td>\n",
       "      <td>0.005708</td>\n",
       "      <td>0.014326</td>\n",
       "      <td>...</td>\n",
       "      <td>0.001185</td>\n",
       "      <td>0.070732</td>\n",
       "      <td>0.035646</td>\n",
       "      <td>0.081532</td>\n",
       "      <td>-0.027580</td>\n",
       "      <td>0.111116</td>\n",
       "      <td>0.000839</td>\n",
       "      <td>0.007980</td>\n",
       "      <td>-0.012374</td>\n",
       "      <td>0.015715</td>\n",
       "    </tr>\n",
       "    <tr>\n",
       "      <th>2025-05-23</th>\n",
       "      <td>-0.009159</td>\n",
       "      <td>-0.049631</td>\n",
       "      <td>0.002958</td>\n",
       "      <td>-0.079629</td>\n",
       "      <td>-0.021110</td>\n",
       "      <td>0.012645</td>\n",
       "      <td>-0.045174</td>\n",
       "      <td>-0.040303</td>\n",
       "      <td>-0.037872</td>\n",
       "      <td>-0.012675</td>\n",
       "      <td>...</td>\n",
       "      <td>0.019984</td>\n",
       "      <td>-0.037410</td>\n",
       "      <td>0.015801</td>\n",
       "      <td>-0.042442</td>\n",
       "      <td>-0.010536</td>\n",
       "      <td>-0.034143</td>\n",
       "      <td>-0.007718</td>\n",
       "      <td>-0.048788</td>\n",
       "      <td>0.030191</td>\n",
       "      <td>-0.019340</td>\n",
       "    </tr>\n",
       "  </tbody>\n",
       "</table>\n",
       "<p>542 rows × 25 columns</p>\n",
       "</div>"
      ]
     },
     "metadata": {},
     "output_type": "display_data",
     "jetTransient": {
      "display_id": null
     }
    },
    {
     "data": {
      "text/plain": [
       "                 SPY\n",
       "date                \n",
       "2015-01-09 -0.005744\n",
       "2015-01-16 -0.012827\n",
       "2015-01-23  0.016565\n",
       "2015-01-30 -0.026931\n",
       "2015-02-06  0.030584\n",
       "...              ...\n",
       "2025-04-25  0.046029\n",
       "2025-05-02  0.029275\n",
       "2025-05-09 -0.004270\n",
       "2025-05-16  0.052911\n",
       "2025-05-23 -0.025395\n",
       "\n",
       "[542 rows x 1 columns]"
      ],
      "text/html": [
       "<div>\n",
       "<style scoped>\n",
       "    .dataframe tbody tr th:only-of-type {\n",
       "        vertical-align: middle;\n",
       "    }\n",
       "\n",
       "    .dataframe tbody tr th {\n",
       "        vertical-align: top;\n",
       "    }\n",
       "\n",
       "    .dataframe thead th {\n",
       "        text-align: right;\n",
       "    }\n",
       "</style>\n",
       "<table border=\"1\" class=\"dataframe\">\n",
       "  <thead>\n",
       "    <tr style=\"text-align: right;\">\n",
       "      <th></th>\n",
       "      <th>SPY</th>\n",
       "    </tr>\n",
       "    <tr>\n",
       "      <th>date</th>\n",
       "      <th></th>\n",
       "    </tr>\n",
       "  </thead>\n",
       "  <tbody>\n",
       "    <tr>\n",
       "      <th>2015-01-09</th>\n",
       "      <td>-0.005744</td>\n",
       "    </tr>\n",
       "    <tr>\n",
       "      <th>2015-01-16</th>\n",
       "      <td>-0.012827</td>\n",
       "    </tr>\n",
       "    <tr>\n",
       "      <th>2015-01-23</th>\n",
       "      <td>0.016565</td>\n",
       "    </tr>\n",
       "    <tr>\n",
       "      <th>2015-01-30</th>\n",
       "      <td>-0.026931</td>\n",
       "    </tr>\n",
       "    <tr>\n",
       "      <th>2015-02-06</th>\n",
       "      <td>0.030584</td>\n",
       "    </tr>\n",
       "    <tr>\n",
       "      <th>...</th>\n",
       "      <td>...</td>\n",
       "    </tr>\n",
       "    <tr>\n",
       "      <th>2025-04-25</th>\n",
       "      <td>0.046029</td>\n",
       "    </tr>\n",
       "    <tr>\n",
       "      <th>2025-05-02</th>\n",
       "      <td>0.029275</td>\n",
       "    </tr>\n",
       "    <tr>\n",
       "      <th>2025-05-09</th>\n",
       "      <td>-0.004270</td>\n",
       "    </tr>\n",
       "    <tr>\n",
       "      <th>2025-05-16</th>\n",
       "      <td>0.052911</td>\n",
       "    </tr>\n",
       "    <tr>\n",
       "      <th>2025-05-23</th>\n",
       "      <td>-0.025395</td>\n",
       "    </tr>\n",
       "  </tbody>\n",
       "</table>\n",
       "<p>542 rows × 1 columns</p>\n",
       "</div>"
      ]
     },
     "metadata": {},
     "output_type": "display_data",
     "jetTransient": {
      "display_id": null
     }
    }
   ],
   "execution_count": 324
  },
  {
   "cell_type": "markdown",
   "metadata": {},
   "source": [
    "## 1 Performance Stats"
   ]
  },
  {
   "cell_type": "markdown",
   "metadata": {},
   "source": [
    " 1.1. Calculate the Sharpe ratio for each stock during the sample period\n",
    "* Recall: the sample period ranges from **February 2018 to December 2024 (inclusive)**.\n",
    "* Report the top 5 stocks with the highest Sharpe ratios."
   ]
  },
  {
   "cell_type": "code",
   "metadata": {
    "ExecuteTime": {
     "end_time": "2025-10-21T01:18:35.031242Z",
     "start_time": "2025-10-21T01:18:35.023800Z"
    }
   },
   "source": [
    "ANN=12\n",
    "retsIS = rets.loc[\"2015-01-01\":\"2024-12-31\"]\n",
    "\n",
    "mean_ret = retsIS.mean()\n",
    "vol_ret  = retsIS.std()\n",
    "\n",
    "sharpe = mean_ret / vol_ret\n",
    "\n",
    "top5 = sharpe.sort_values(ascending=False).head(5)\n",
    "print(top5)"
   ],
   "outputs": [
    {
     "name": "stdout",
     "output_type": "stream",
     "text": [
      "WM       0.128937\n",
      "GOOGL    0.118540\n",
      "INTU     0.116997\n",
      "TTWO     0.108924\n",
      "WMT      0.107254\n",
      "dtype: float64\n"
     ]
    }
   ],
   "execution_count": 325
  },
  {
   "cell_type": "markdown",
   "metadata": {},
   "source": [
    "1.2. Display the correlation matrix for the first ten stocks (columns) over the sample period.\n",
    "* On average, are these stocks highly correlated? Explain.\n",
    "* Which of these stocks offer the best diversification benefits?"
   ]
  },
  {
   "cell_type": "code",
   "metadata": {
    "ExecuteTime": {
     "end_time": "2025-10-21T01:18:35.048663Z",
     "start_time": "2025-10-21T01:18:35.043584Z"
    }
   },
   "source": [
    "subset = sample.iloc[:, :10]\n",
    "\n",
    "# 3️⃣ Compute the correlation matrix\n",
    "corr_matrix = subset.corr()\n",
    "\n",
    "# 4️⃣ Display neatly\n",
    "print(corr_matrix.round(3))"
   ],
   "outputs": [
    {
     "name": "stdout",
     "output_type": "stream",
     "text": [
      "       ADSK    AOS   BKNG   CBRE    CCI     CF   CHRW     DE    DGX    DTE\n",
      "ADSK  1.000  0.402  0.502  0.449  0.320  0.199  0.269  0.325  0.290  0.188\n",
      "AOS   0.402  1.000  0.458  0.582  0.396  0.301  0.380  0.527  0.391  0.323\n",
      "BKNG  0.502  0.458  1.000  0.553  0.215  0.305  0.234  0.443  0.245  0.293\n",
      "CBRE  0.449  0.582  0.553  1.000  0.398  0.411  0.236  0.463  0.405  0.480\n",
      "CCI   0.320  0.396  0.215  0.398  1.000  0.127  0.216  0.236  0.399  0.535\n",
      "CF    0.199  0.301  0.305  0.411  0.127  1.000  0.243  0.465  0.252  0.272\n",
      "CHRW  0.269  0.380  0.234  0.236  0.216  0.243  1.000  0.326  0.195  0.220\n",
      "DE    0.325  0.527  0.443  0.463  0.236  0.465  0.326  1.000  0.305  0.353\n",
      "DGX   0.290  0.391  0.245  0.405  0.399  0.252  0.195  0.305  1.000  0.482\n",
      "DTE   0.188  0.323  0.293  0.480  0.535  0.272  0.220  0.353  0.482  1.000\n"
     ]
    }
   ],
   "execution_count": 326
  },
  {
   "cell_type": "markdown",
   "metadata": {
    "ExecuteTime": {
     "end_time": "2025-10-21T00:23:20.624968Z",
     "start_time": "2025-10-21T00:23:20.621806Z"
    }
   },
   "source": [
    "On average, these stocks are moderately correlated, not highly correlated. They move together somewhat (average around 0.45)\n",
    "CF, CHRW, & CCI show the lowest average correlations with the rest\n"
   ]
  },
  {
   "cell_type": "markdown",
   "metadata": {},
   "source": [
    "## 2. In-Sample Tangency (excess returns)"
   ]
  },
  {
   "cell_type": "markdown",
   "metadata": {},
   "source": [
    "#### Note\n",
    "Consider `in-sample` to be all the data through the end of `2024`."
   ]
  },
  {
   "cell_type": "markdown",
   "metadata": {},
   "source": [
    "#### 2.1. Construct the tangency portfolio\n",
    "\n",
    "Using just the in-sample data (through `2024`), calculate the tangency portfolio weights, assuming we have excess returns (existence of a risk-free rate.)\n",
    "   * Display the ten largest portfolio weights.\n",
    "   * Plot the Sharpe ratios against the portfolio weights."
   ]
  },
  {
   "cell_type": "code",
   "metadata": {
    "ExecuteTime": {
     "end_time": "2025-10-21T01:18:35.137456Z",
     "start_time": "2025-10-21T01:18:35.071555Z"
    }
   },
   "source": [
    "def tangency(returns, scale):\n",
    "    cov=returns.cov()\n",
    "    covmat = scale * cov + (1-scale) * np.diag(np.diag(cov))\n",
    "    weights = np.linalg.solve(covmat,returns.mean())\n",
    "    weights /= sum(weights)\n",
    "    return weights\n",
    "\n",
    "weights_series = pd.Series(tangency(retsIS, 1), index=retsIS.columns)\n",
    "\n",
    "# Make into DataFrame and sort\n",
    "weights_df = pd.DataFrame(weights_series, columns=[\"weights\"])\n",
    "top10 = weights_df.sort_values(\"weights\", ascending=False).head(10)\n",
    "\n",
    "print(\"Top 10 Tangency Portfolio Weights:\")\n",
    "print(top10.round(6))\n",
    "\n",
    "weights = pd.Series(tangency(retsIS, 1), index=retsIS.columns)\n",
    "\n",
    "# 2️⃣ Compute individual asset Sharpe ratios (mean/std of excess returns)\n",
    "sharpe_ratios = retsIS.mean() / retsIS.std()\n",
    "\n",
    "# 3️⃣ Combine into one DataFrame for plotting\n",
    "df_plot = pd.DataFrame({\n",
    "    \"Sharpe\": sharpe_ratios,\n",
    "    \"Weight\": weights\n",
    "}).dropna()\n",
    "\n",
    "# 4️⃣ Plot: Sharpe ratios (x-axis) vs portfolio weights (y-axis)\n",
    "plt.figure(figsize=(8,6))\n",
    "plt.scatter(df_plot[\"Sharpe\"], df_plot[\"Weight\"], color=\"dodgerblue\", alpha=0.7)\n",
    "plt.title(\"Sharpe Ratios vs. Tangency Portfolio Weights\", fontsize=13)\n",
    "plt.xlabel(\"Asset Sharpe Ratio\")\n",
    "plt.ylabel(\"Tangency Portfolio Weight\")\n",
    "\n",
    "# Label the 10 largest weights\n",
    "top10 = df_plot[\"Weight\"].nlargest(10)\n",
    "for ticker in top10.index:\n",
    "    plt.annotate(ticker,\n",
    "                 (df_plot.loc[ticker, \"Sharpe\"], df_plot.loc[ticker, \"Weight\"]),\n",
    "                 textcoords=\"offset points\",\n",
    "                 xytext=(4,4),\n",
    "                 fontsize=8)\n",
    "\n",
    "plt.grid(True, linestyle=\"--\", alpha=0.5)\n",
    "plt.show()\n"
   ],
   "outputs": [
    {
     "name": "stdout",
     "output_type": "stream",
     "text": [
      "Top 10 Tangency Portfolio Weights:\n",
      "        weights\n",
      "DTE    0.452431\n",
      "WM     0.364931\n",
      "GOOGL  0.205688\n",
      "TTWO   0.198862\n",
      "DE     0.191454\n",
      "WMT    0.185139\n",
      "MRK    0.168538\n",
      "CBRE   0.167008\n",
      "PG     0.087959\n",
      "INTU   0.084542\n"
     ]
    },
    {
     "data": {
      "text/plain": [
       "<Figure size 800x600 with 1 Axes>"
      ],
      "image/png": "[encoded data removed]"
     },
     "metadata": {},
     "output_type": "display_data",
     "jetTransient": {
      "display_id": null
     }
    }
   ],
   "execution_count": 327
  },
  {
   "cell_type": "markdown",
   "metadata": {},
   "source": [
    "#### 2.2.\n",
    "\n",
    "Compare the relationship between tangency portfolio weights and individual sharpe ratios."
   ]
  },
  {
   "cell_type": "markdown",
   "metadata": {},
   "source": [
    "Higher Sharpe assets tend to have larger weights, but not strictly monotonic. Some sharpe ratios with small weights ie highly correlated with others or less diversifying. The low sharpe ratios with positive weights might be used as diversifiers with low correlation"
   ]
  },
  {
   "cell_type": "markdown",
   "metadata": {},
   "source": [
    "#### 2.3. Performance of the Tangency\n",
    "\n",
    "Continue with the in-sample tangency portfolio constructed above, and analyze how it performs in-sample (through `2024`.)\n",
    "\n",
    "   Report the (annualized)\n",
    "   * mean\n",
    "   * volatility\n",
    "   * Sharpe ratio\n",
    "   * skewness (not annualized)\n",
    "   \n",
    "   Plot the cumulative return of the tangency portfolio over the sample period."
   ]
  },
  {
   "cell_type": "code",
   "metadata": {
    "ExecuteTime": {
     "end_time": "2025-10-21T01:18:35.226908Z",
     "start_time": "2025-10-21T01:18:35.143177Z"
    }
   },
   "source": [
    "ANN=12\n",
    "def perf_stats(returns):\n",
    "    stats = {}\n",
    "    stats['mean']   = returns.mean() * ANN\n",
    "    stats['std']    = returns.std() * np.sqrt(ANN)\n",
    "    stats['sharpe'] = (returns.mean() / returns.std()) * np.sqrt(ANN)\n",
    "    stats['skew']   = returns.skew()\n",
    "    return pd.DataFrame(stats, index=[\"Tangency Portfolio\"]).T\n",
    "\n",
    "# Compute tangency portfolio returns (dot product)\n",
    "# weights_df should have a single column 'weights' aligned with rets.columns\n",
    "port_rets = retsIS @ weights_df['weights']\n",
    "\n",
    "# Performance statistics\n",
    "results = perf_stats(port_rets)\n",
    "print(results.round(4))\n",
    "\n",
    "# --- Plot cumulative returns ---\n",
    "cumulative = (1 + port_rets).cumprod()\n",
    "\n",
    "plt.figure(figsize=(8,5))\n",
    "plt.plot(cumulative, label=\"Tangency Portfolio\", color='dodgerblue')\n",
    "plt.title(\"In-sample Tangency Portfolio Cumulative Return (Through 2024)\")\n",
    "plt.xlabel(\"Date\")\n",
    "plt.ylabel(\"Cumulative Growth of $1\")\n",
    "plt.grid(True, linestyle=\"--\", alpha=0.6)\n",
    "plt.legend()\n",
    "plt.show()\n"
   ],
   "outputs": [
    {
     "name": "stdout",
     "output_type": "stream",
     "text": [
      "        Tangency Portfolio\n",
      "mean                0.0691\n",
      "std                 0.0870\n",
      "sharpe              0.7942\n",
      "skew               -0.0830\n"
     ]
    },
    {
     "data": {
      "text/plain": [
       "<Figure size 800x500 with 1 Axes>"
      ],
      "image/png": "[encoded data removed]"
     },
     "metadata": {},
     "output_type": "display_data",
     "jetTransient": {
      "display_id": null
     }
    }
   ],
   "execution_count": 328
  },
  {
   "cell_type": "markdown",
   "metadata": {},
   "source": [
    "## 3. Hedging the Tangency Portfolio\n",
    "\n",
    "Continue with the in-sample (through 2024) tangency returns calculated in the previous problem.\n",
    "\n",
    "#### 3.1.\n",
    "\n",
    "Compute portfolio returns and regress on `SPY` to get $\\hat{\\beta}$. \n",
    "\n",
    "Include an intercept in the regression.\n",
    "\n",
    "Report $\\hat{\\beta}$.\n",
    "\n",
    "#### 3.2. \n",
    "\n",
    "Calculate the returns to the hedged position.\n",
    "\n",
    "   Report the (annualized)\n",
    "   * mean\n",
    "   * volatility\n",
    "   * Sharpe ratio\n",
    "   * skewness (not annualized)\n"
   ]
  },
  {
   "cell_type": "code",
   "metadata": {
    "ExecuteTime": {
     "end_time": "2025-10-21T01:18:35.258530Z",
     "start_time": "2025-10-21T01:18:35.245400Z"
    }
   },
   "source": [
    "#3.1\n",
    "import statsmodels.api as sm\n",
    "\n",
    "# Tangency portfolio returns (from previous step)\n",
    "port_rets = retsIS @ weights_df['weights']\n",
    "\n",
    "# Restrict to in-sample period through 2024\n",
    "port_rets_IS = port_rets.loc[:'2024-12-31']\n",
    "spy_IS = spy.loc[:'2024-12-31']  # assuming SPY column exists in rets\n",
    "\n",
    "# Add intercept\n",
    "X = sm.add_constant(spy_IS)\n",
    "y = port_rets_IS\n",
    "\n",
    "# Run OLS regression\n",
    "model = sm.OLS(y, X).fit()\n",
    "\n",
    "beta = model.params['SPY']\n",
    "\n",
    "print(f\"Beta of the tangency portfolio (in-sample): {beta:.4f}\")\n",
    "\n",
    "#3.2\n",
    "port_rets_IS = (rets @ weights_df['weights']).loc[:'2024-12-31']\n",
    "spy_IS = spy.loc[:'2024-12-31']  # independent DataFrame with SPY excess returns\n",
    "\n",
    "# --- 2️⃣ Regress tangency returns on SPY to estimate beta ---\n",
    "X = sm.add_constant(spy_IS)\n",
    "model = sm.OLS(port_rets_IS, X).fit()\n",
    "beta = model.params[spy_IS.columns[0]]  # extract beta from regression\n",
    "\n",
    "# --- 3️⃣ Compute hedged returns (remove market exposure) ---\n",
    "hedged_rets = port_rets_IS - beta * spy_IS.squeeze()\n",
    "\n",
    "# --- 5️⃣ Display results ---\n",
    "results_hedged = perf_stats(hedged_rets)\n",
    "print(results_hedged.round(4))\n"
   ],
   "outputs": [
    {
     "name": "stdout",
     "output_type": "stream",
     "text": [
      "Beta of the tangency portfolio (in-sample): 0.6048\n",
      "        Tangency Portfolio\n",
      "mean                0.0498\n",
      "std                 0.0720\n",
      "sharpe              0.6919\n",
      "skew                0.1697\n"
     ]
    }
   ],
   "execution_count": 329
  },
  {
   "cell_type": "markdown",
   "metadata": {},
   "source": [
    "## 4. Out-of-Sample\n",
    "\n",
    "#### 4.1. Tangency Portfolio Performance: Out-of-Sample (OOS)\n",
    "\n",
    "Use the weights of the tangency portfolio calculated above.\n",
    "\n",
    "Compute the out-of-sample returns (`2025`), and just for this OOS portion, report the (annualized)\n",
    "* mean\n",
    "* volatility\n",
    "* Sharpe ratio\n",
    "* skewness (not annualized)\n",
    "   \n",
    "   \n",
    "#### 4.2. Cumulative performance\n",
    "\n",
    "* Include the OOS performance in the cumulative return plot (in addition to the in-sample performance).\n",
    "\n",
    "Show the plot."
   ]
  },
  {
   "cell_type": "code",
   "metadata": {
    "ExecuteTime": {
     "end_time": "2025-10-21T01:18:35.344608Z",
     "start_time": "2025-10-21T01:18:35.265434Z"
    }
   },
   "source": [
    "#4.1\n",
    "port_rets_OOS = (rets.loc[\"2025-01-01\":\"2025-12-31\"] @ weights_df[\"weights\"])\n",
    "\n",
    "# --- 3️⃣ Compute and display\n",
    "results_OOS = perf_stats(port_rets_OOS)\n",
    "print(results_OOS.round(4))\n",
    "\n",
    "\n",
    "#4.2\n",
    "port_rets_IS  = (rets.loc[:\"2024-12-31\"] @ weights_df[\"weights\"])\n",
    "port_rets_OOS = (rets.loc[\"2025-01-01\":\"2025-12-31\"] @ weights_df[\"weights\"])\n",
    "\n",
    "# --- 2️⃣ Combine for plotting cumulative return ---\n",
    "cumulative_IS  = (1 + port_rets_IS).cumprod()\n",
    "cumulative_OOS = (1 + port_rets_OOS).cumprod()\n",
    "\n",
    "# Concatenate for continuous time axis\n",
    "cumulative_total = pd.concat([cumulative_IS, cumulative_OOS])\n",
    "\n",
    "# --- 3️⃣ Plot cumulative returns ---\n",
    "plt.figure(figsize=(9,6))\n",
    "plt.plot(cumulative_IS, label=\"In-sample (≤ 2024)\", color=\"dodgerblue\", linewidth=2)\n",
    "plt.plot(cumulative_OOS, label=\"Out-of-sample (2025)\", color=\"orange\", linewidth=2, linestyle=\"--\")\n",
    "plt.title(\"Tangency Portfolio Cumulative Return (In-sample and Out-of-sample)\")\n",
    "plt.xlabel(\"Date\")\n",
    "plt.ylabel(\"Cumulative Growth of $1\")\n",
    "plt.grid(True, linestyle=\"--\", alpha=0.6)\n",
    "plt.legend()\n",
    "plt.show()\n",
    "\n",
    "\n",
    "results_OOS = perf_stats(port_rets_OOS)\n",
    "print(\"Out-of-sample performance (2025):\")\n",
    "print(results_OOS.round(4))\n",
    "\n"
   ],
   "outputs": [
    {
     "name": "stdout",
     "output_type": "stream",
     "text": [
      "        Tangency Portfolio\n",
      "mean                0.1003\n",
      "std                 0.1042\n",
      "sharpe              0.9624\n",
      "skew               -0.2853\n"
     ]
    },
    {
     "data": {
      "text/plain": [
       "<Figure size 900x600 with 1 Axes>"
      ],
      "image/png": "[encoded data removed]"
     },
     "metadata": {},
     "output_type": "display_data",
     "jetTransient": {
      "display_id": null
     }
    },
    {
     "name": "stdout",
     "output_type": "stream",
     "text": [
      "Out-of-sample performance (2025):\n",
      "        Tangency Portfolio\n",
      "mean                0.1003\n",
      "std                 0.1042\n",
      "sharpe              0.9624\n",
      "skew               -0.2853\n"
     ]
    }
   ],
   "execution_count": 330
  },
  {
   "cell_type": "markdown",
   "metadata": {},
   "source": [
    "## 5. Optimizing Hedged Returns\n",
    "\n",
    "#### 5.1. Construct Market-Hedged Returns\n",
    "\n",
    "Active managers might optimize their portfolios using market-hedged returns to focus on alpha generation (maximize portion of returns orthogonal to the market). Market-hedged returns are the residuals from regressing each stock’s excess return on the market’s excess return (e.g., `SPY`), effectively removing market beta to isolate stock-specific (idiosyncratic) performance.\n",
    "\n",
    "* Regress each stock's excess return on the SPY index (quoted in excess return) over the sample period. \n",
    "* Include an intercept.\n",
    "* Report your betas."
   ]
  },
  {
   "cell_type": "code",
   "metadata": {
    "ExecuteTime": {
     "end_time": "2025-10-21T01:18:35.800605Z",
     "start_time": "2025-10-21T01:18:35.753671Z"
    }
   },
   "source": [
    "import statsmodels.api as sm\n",
    "spy_series = spy.squeeze()  # ensure it's a Series\n",
    "betas = {}\n",
    "\n",
    "for stock in retsIS.columns:\n",
    "    # align data\n",
    "    df = pd.concat([retsIS[stock], spy_series], axis=1, join=\"inner\").dropna()\n",
    "    df.columns = [\"stock\", \"spy\"]\n",
    "\n",
    "    # regression: r_i = α_i + β_i * r_spy + ε_i\n",
    "    X = sm.add_constant(df[\"spy\"])\n",
    "    y = df[\"stock\"]\n",
    "    model = sm.OLS(y, X).fit()\n",
    "\n",
    "    betas[stock] = model.params[\"spy\"]\n",
    "\n",
    "# Convert to DataFrame\n",
    "betas_df = pd.DataFrame.from_dict(betas, orient=\"index\", columns=[\"beta\"]).sort_values(\"beta\", ascending=False)\n",
    "\n",
    "print(\"Estimated Market Betas (vs SPY):\")\n",
    "print(betas_df.round(4))"
   ],
   "outputs": [
    {
     "name": "stdout",
     "output_type": "stream",
     "text": [
      "Estimated Market Betas (vs SPY):\n",
      "         beta\n",
      "MGM    1.8320\n",
      "ADSK   1.3461\n",
      "CBRE   1.3251\n",
      "PNR    1.2990\n",
      "INTU   1.2911\n",
      "BKNG   1.2700\n",
      "DE     1.1275\n",
      "MTD    1.0837\n",
      "GOOGL  1.0717\n",
      "AOS    1.0506\n",
      "GD     0.9910\n",
      "CF     0.9880\n",
      "VTRS   0.9692\n",
      "STE    0.9219\n",
      "SBAC   0.8285\n",
      "DGX    0.7508\n",
      "CCI    0.7375\n",
      "TTWO   0.7262\n",
      "DTE    0.6998\n",
      "ES     0.6769\n",
      "WM     0.6370\n",
      "CHRW   0.5943\n",
      "PG     0.5545\n",
      "WMT    0.5016\n",
      "MRK    0.4671\n"
     ]
    }
   ],
   "execution_count": 331
  },
  {
   "cell_type": "markdown",
   "metadata": {},
   "source": [
    "#### 5.2. The residuals\n",
    "\n",
    "Save the residuals from each regression as the market-hedged returns. \n",
    "\n",
    "Report the `.tail()` (last 5 observations) of the residual dataframe."
   ]
  },
  {
   "cell_type": "code",
   "metadata": {
    "ExecuteTime": {
     "end_time": "2025-10-21T01:18:35.847450Z",
     "start_time": "2025-10-21T01:18:35.807672Z"
    }
   },
   "source": [
    "\n",
    "spy_series = spy.squeeze()  # ensure SPY is a Series\n",
    "residuals = pd.DataFrame(index=retsIS.index, columns=retsIS.columns)\n",
    "betas = {}\n",
    "\n",
    "for stock in retsIS.columns:\n",
    "    # Align stock and SPY returns\n",
    "    df = pd.concat([retsIS[stock], spy_series], axis=1, join=\"inner\").dropna()\n",
    "    df.columns = [\"stock\", \"spy\"]\n",
    "\n",
    "    # Regression: r_i,t = α_i + β_i * r_SPY,t + ε_i,t\n",
    "    X = sm.add_constant(df[\"spy\"])\n",
    "    y = df[\"stock\"]\n",
    "    model = sm.OLS(y, X).fit()\n",
    "\n",
    "    # Save beta and residuals\n",
    "    betas[stock] = model.params[\"spy\"]\n",
    "    residuals.loc[df.index, stock] = model.resid  # fill residuals by date\n",
    "\n",
    "# Convert betas to DataFrame\n",
    "betas_df = pd.DataFrame.from_dict(betas, orient=\"index\", columns=[\"beta\"])\n",
    "\n",
    "# Market-hedged returns DataFrame\n",
    "hedged_returns = residuals.astype(float)\n",
    "\n",
    "# Display last 5 observations\n",
    "print(\"Tail of market-hedged (residual) returns:\")\n",
    "print(hedged_returns.tail().round(6))"
   ],
   "outputs": [
    {
     "name": "stdout",
     "output_type": "stream",
     "text": [
      "Tail of market-hedged (residual) returns:\n",
      "                ADSK       AOS      BKNG      CBRE       CCI        CF  \\\n",
      "date                                                                     \n",
      "2024-11-29 -0.108049  0.001919 -0.010707  0.017987 -0.000695 -0.013378   \n",
      "2024-12-06  0.041694 -0.034368  0.009021 -0.026658 -0.047508 -0.022482   \n",
      "2024-12-13 -0.005549  0.004611 -0.006689  0.003625 -0.026479  0.017587   \n",
      "2024-12-20  0.005347 -0.032718 -0.011464 -0.035024 -0.052567 -0.032651   \n",
      "2024-12-27 -0.011285 -0.011038 -0.011001  0.002711 -0.005577 -0.009409   \n",
      "\n",
      "                CHRW        DE       DGX       DTE  ...       MRK       MTD  \\\n",
      "date                                                ...                       \n",
      "2024-11-29 -0.026047  0.028463 -0.015035  0.001000  ...  0.018365  0.013934   \n",
      "2024-12-06 -0.000899 -0.058154 -0.039673 -0.039778  ...  0.009273 -0.004627   \n",
      "2024-12-13  0.059799 -0.002645 -0.010962  0.001563  ... -0.008723  0.021033   \n",
      "2024-12-20 -0.052474  0.001304  0.001023  0.012541  ... -0.023388 -0.016891   \n",
      "2024-12-27 -0.008351 -0.014287 -0.008446  0.004969  ...  0.012862 -0.004779   \n",
      "\n",
      "                  PG       PNR      SBAC       STE      TTWO      VTRS  \\\n",
      "date                                                                     \n",
      "2024-11-29  0.009785  0.004557  0.015754  0.010505 -0.009923 -0.028645   \n",
      "2024-12-06 -0.035752 -0.018765 -0.032963 -0.023136 -0.001839 -0.032969   \n",
      "2024-12-13 -0.013159 -0.000446 -0.022560 -0.002893 -0.020556  0.002421   \n",
      "2024-12-20 -0.007943 -0.024171 -0.034588 -0.015143 -0.008179  0.012803   \n",
      "2024-12-27  0.004561 -0.015779 -0.007017 -0.004276  0.017208 -0.005774   \n",
      "\n",
      "                  WM       WMT  \n",
      "date                            \n",
      "2024-11-29  0.007773  0.015156  \n",
      "2024-12-06 -0.030388  0.028523  \n",
      "2024-12-13 -0.038362 -0.011696  \n",
      "2024-12-20 -0.024570 -0.013826  \n",
      "2024-12-27 -0.014627 -0.011255  \n",
      "\n",
      "[5 rows x 25 columns]\n"
     ]
    }
   ],
   "execution_count": 332
  },
  {
   "cell_type": "markdown",
   "metadata": {},
   "source": [
    "#### 5.3 Diversification Benefits of Market-Hedged Returns\n",
    "\n",
    "Display the covariance matrix of the market-hedged returns for the first ten stocks.\n"
   ]
  },
  {
   "cell_type": "code",
   "metadata": {
    "ExecuteTime": {
     "end_time": "2025-10-21T01:18:35.857837Z",
     "start_time": "2025-10-21T01:18:35.853094Z"
    }
   },
   "source": [
    "subset = hedged_returns.iloc[:, :10]\n",
    "\n",
    "# Compute covariance matrix\n",
    "cov_hedged = subset.cov()\n",
    "\n",
    "# Display neatly\n",
    "print(\"Covariance matrix of market-hedged returns (first 10 stocks):\")\n",
    "print(cov_hedged.round(6))"
   ],
   "outputs": [
    {
     "name": "stdout",
     "output_type": "stream",
     "text": [
      "Covariance matrix of market-hedged returns (first 10 stocks):\n",
      "          ADSK       AOS      BKNG      CBRE       CCI        CF      CHRW  \\\n",
      "ADSK  0.001427 -0.000015  0.000170  0.000012  0.000001 -0.000182  0.000029   \n",
      "AOS  -0.000015  0.000854  0.000054  0.000230  0.000098  0.000070  0.000168   \n",
      "BKNG  0.000170  0.000054  0.001104  0.000180 -0.000180  0.000069 -0.000045   \n",
      "CBRE  0.000012  0.000230  0.000180  0.001020  0.000075  0.000297 -0.000060   \n",
      "CCI   0.000001  0.000098 -0.000180  0.000075  0.000878 -0.000154  0.000021   \n",
      "CF   -0.000182  0.000070  0.000069  0.000297 -0.000154  0.002509  0.000151   \n",
      "CHRW  0.000029  0.000168 -0.000045 -0.000060  0.000021  0.000151  0.001032   \n",
      "DE   -0.000140  0.000215  0.000065  0.000068 -0.000105  0.000489  0.000123   \n",
      "DGX  -0.000077  0.000066 -0.000156  0.000055  0.000152  0.000057 -0.000016   \n",
      "DTE  -0.000228 -0.000022 -0.000084  0.000149  0.000280  0.000084  0.000010   \n",
      "\n",
      "            DE       DGX       DTE  \n",
      "ADSK -0.000140 -0.000077 -0.000228  \n",
      "AOS   0.000215  0.000066 -0.000022  \n",
      "BKNG  0.000065 -0.000156 -0.000084  \n",
      "CBRE  0.000068  0.000055  0.000149  \n",
      "CCI  -0.000105  0.000152  0.000280  \n",
      "CF    0.000489  0.000057  0.000084  \n",
      "CHRW  0.000123 -0.000016  0.000010  \n",
      "DE    0.001133 -0.000028  0.000032  \n",
      "DGX  -0.000028  0.000786  0.000201  \n",
      "DTE   0.000032  0.000201  0.000667  \n"
     ]
    }
   ],
   "execution_count": 333
  },
  {
   "cell_type": "markdown",
   "metadata": {},
   "source": [
    "#### 5.4. Portfolio Optimization with Market-Hedged Returns\n",
    "\n",
    "Construct the tangency portfolio using the alphas (intercept from previous regression) as expected returns and the covariance matrix of the market-hedged returns. Display the portfolio weights."
   ]
  },
  {
   "cell_type": "code",
   "metadata": {
    "ExecuteTime": {
     "end_time": "2025-10-21T01:18:35.906725Z",
     "start_time": "2025-10-21T01:18:35.867453Z"
    }
   },
   "source": [
    "alphas = {}\n",
    "for stock in rets.columns:\n",
    "    df = pd.concat([retsIS[stock], spy.squeeze()], axis=1, join=\"inner\").dropna()\n",
    "    df.columns = [\"stock\", \"spy\"]\n",
    "    X = sm.add_constant(df[\"spy\"])\n",
    "    y = df[\"stock\"]\n",
    "    model = sm.OLS(y, X).fit()\n",
    "    alphas[stock] = model.params[\"const\"]\n",
    "\n",
    "alphas_df = pd.DataFrame.from_dict(alphas, orient=\"index\", columns=[\"alpha\"])\n",
    "\n",
    "# --- Use alphas as expected returns, and cov of market-hedged returns ---\n",
    "mu_alpha = alphas_df[\"alpha\"]\n",
    "Sigma_hedged = hedged_returns.cov()\n",
    "\n",
    "# --- Tangency portfolio weights (max Sharpe) ---\n",
    "invS = np.linalg.inv(Sigma_hedged)\n",
    "raw_w = invS @ mu_alpha\n",
    "w_alpha = raw_w / raw_w.sum()   # normalize to sum to 1\n",
    "\n",
    "# --- Store as DataFrame ---\n",
    "w_alpha_df = pd.DataFrame(w_alpha, index=mu_alpha.index, columns=[\"alpha_tangency_weight\"])\n",
    "print(\"Tangency Portfolio Weights (Alpha-based):\")\n",
    "print(w_alpha_df.sort_values(\"alpha_tangency_weight\", ascending=False).round(6))"
   ],
   "outputs": [
    {
     "name": "stdout",
     "output_type": "stream",
     "text": [
      "Tangency Portfolio Weights (Alpha-based):\n",
      "       alpha_tangency_weight\n",
      "DTE                 0.261246\n",
      "WM                  0.212877\n",
      "GOOGL               0.165559\n",
      "WMT                 0.138082\n",
      "DE                  0.125076\n",
      "TTWO                0.121184\n",
      "CBRE                0.110415\n",
      "MRK                 0.109335\n",
      "INTU                0.091754\n",
      "PG                  0.076923\n",
      "BKNG                0.058802\n",
      "DGX                 0.048271\n",
      "STE                 0.034471\n",
      "ADSK                0.026741\n",
      "CF                  0.015420\n",
      "MTD                 0.009144\n",
      "PNR                 0.006899\n",
      "AOS                 0.000448\n",
      "CHRW               -0.002425\n",
      "SBAC               -0.008719\n",
      "CCI                -0.062549\n",
      "MGM                -0.087151\n",
      "GD                 -0.093932\n",
      "VTRS               -0.117783\n",
      "ES                 -0.240089\n"
     ]
    }
   ],
   "execution_count": 334
  },
  {
   "cell_type": "markdown",
   "metadata": {},
   "source": [
    "#### 5.5. Performance of the Tangency of the Hedged\n",
    "\n",
    "Calculate the returns to the portfolio with weights from the previous question (just in-sample).\n",
    "\n",
    "   Report the (annualized)\n",
    "   * mean\n",
    "   * volatility\n",
    "   * Sharpe ratio\n",
    "   * skewness (not annualized)"
   ]
  },
  {
   "cell_type": "code",
   "metadata": {
    "ExecuteTime": {
     "end_time": "2025-10-21T01:18:46.564174Z",
     "start_time": "2025-10-21T01:18:46.541717Z"
    }
   },
   "source": [
    "alpha_port_rets_IS = (hedged_returns.loc[:'2024-12-31'] @ w_alpha_df['alpha_tangency_weight'])\n",
    "\n",
    "# --- 3️⃣ Compute performance ---\n",
    "results_alpha_IS = perf_stats(alpha_port_rets_IS)\n",
    "print(\"In-sample performance (alpha-based tangency portfolio):\")\n",
    "print(results_alpha_IS.round(4))"
   ],
   "outputs": [
    {
     "name": "stdout",
     "output_type": "stream",
     "text": [
      "In-sample performance (alpha-based tangency portfolio):\n",
      "        Tangency Portfolio\n",
      "mean               -0.0000\n",
      "std                 0.0430\n",
      "sharpe             -0.0000\n",
      "skew                0.1725\n"
     ]
    }
   ],
   "execution_count": 342
  },
  {
   "cell_type": "markdown",
   "metadata": {},
   "source": [
    "***"
   ]
  },
  {
   "cell_type": "markdown",
   "metadata": {},
   "source": [
    "# 2. Managing Risk"
   ]
  },
  {
   "cell_type": "code",
   "metadata": {
    "ExecuteTime": {
     "end_time": "2025-10-21T01:18:35.968160Z",
     "start_time": "2025-10-21T01:18:35.938120Z"
    }
   },
   "source": [
    "#DATAFILE = '../data/midterm_1_fund_returns.xlsx'\n",
    "DATAFILE = 'midterm_1_fund_returns.xlsx'\n",
    "df = pd.read_excel(DATAFILE, sheet_name='fund returns').set_index('date')\n",
    "df"
   ],
   "outputs": [
    {
     "data": {
      "text/plain": [
       "                fund\n",
       "date                \n",
       "2015-01-09  0.003444\n",
       "2015-01-16 -0.000959\n",
       "2015-01-23  0.004491\n",
       "2015-01-30  0.010560\n",
       "2015-02-06 -0.001624\n",
       "...              ...\n",
       "2024-11-29  0.013893\n",
       "2024-12-06 -0.027113\n",
       "2024-12-13  0.002755\n",
       "2024-12-20  0.020840\n",
       "2024-12-27 -0.046301\n",
       "\n",
       "[521 rows x 1 columns]"
      ],
      "text/html": [
       "<div>\n",
       "<style scoped>\n",
       "    .dataframe tbody tr th:only-of-type {\n",
       "        vertical-align: middle;\n",
       "    }\n",
       "\n",
       "    .dataframe tbody tr th {\n",
       "        vertical-align: top;\n",
       "    }\n",
       "\n",
       "    .dataframe thead th {\n",
       "        text-align: right;\n",
       "    }\n",
       "</style>\n",
       "<table border=\"1\" class=\"dataframe\">\n",
       "  <thead>\n",
       "    <tr style=\"text-align: right;\">\n",
       "      <th></th>\n",
       "      <th>fund</th>\n",
       "    </tr>\n",
       "    <tr>\n",
       "      <th>date</th>\n",
       "      <th></th>\n",
       "    </tr>\n",
       "  </thead>\n",
       "  <tbody>\n",
       "    <tr>\n",
       "      <th>2015-01-09</th>\n",
       "      <td>0.003444</td>\n",
       "    </tr>\n",
       "    <tr>\n",
       "      <th>2015-01-16</th>\n",
       "      <td>-0.000959</td>\n",
       "    </tr>\n",
       "    <tr>\n",
       "      <th>2015-01-23</th>\n",
       "      <td>0.004491</td>\n",
       "    </tr>\n",
       "    <tr>\n",
       "      <th>2015-01-30</th>\n",
       "      <td>0.010560</td>\n",
       "    </tr>\n",
       "    <tr>\n",
       "      <th>2015-02-06</th>\n",
       "      <td>-0.001624</td>\n",
       "    </tr>\n",
       "    <tr>\n",
       "      <th>...</th>\n",
       "      <td>...</td>\n",
       "    </tr>\n",
       "    <tr>\n",
       "      <th>2024-11-29</th>\n",
       "      <td>0.013893</td>\n",
       "    </tr>\n",
       "    <tr>\n",
       "      <th>2024-12-06</th>\n",
       "      <td>-0.027113</td>\n",
       "    </tr>\n",
       "    <tr>\n",
       "      <th>2024-12-13</th>\n",
       "      <td>0.002755</td>\n",
       "    </tr>\n",
       "    <tr>\n",
       "      <th>2024-12-20</th>\n",
       "      <td>0.020840</td>\n",
       "    </tr>\n",
       "    <tr>\n",
       "      <th>2024-12-27</th>\n",
       "      <td>-0.046301</td>\n",
       "    </tr>\n",
       "  </tbody>\n",
       "</table>\n",
       "<p>521 rows × 1 columns</p>\n",
       "</div>"
      ]
     },
     "execution_count": 336,
     "metadata": {},
     "output_type": "execute_result"
    }
   ],
   "execution_count": 336
  },
  {
   "cell_type": "markdown",
   "metadata": {},
   "source": [
    "#### 1. Calculating Volatility\n",
    "Given the return data provided, calculate the annual volatility grouped by year. Annualize this volatility. That is, your answer should be a DataFrame with 10 rows (one for each year from 2015 to 2024) and a single column representing the annualized volatility for that year.\n",
    "\n",
    "What do you notice about the volatility across different years?"
   ]
  },
  {
   "cell_type": "code",
   "metadata": {
    "ExecuteTime": {
     "end_time": "2025-10-21T01:18:35.998668Z",
     "start_time": "2025-10-21T01:18:35.990588Z"
    }
   },
   "source": [
    "df.index = pd.to_datetime(df.index)\n",
    "\n",
    "annual_vol = df.groupby(df.index.year).std() * np.sqrt(12)\n",
    "\n",
    "if annual_vol.shape[1] == 1:\n",
    "    annual_vol.columns = ['annual_volatility']\n",
    "\n",
    "print(annual_vol.round(4))\n",
    "#Volatility is not constant over time — it clusters in turbulent years (crisis, recession) and remains subdued during calm periods, illustrating volatility clustering — a well-known stylized fact in financial time series."
   ],
   "outputs": [
    {
     "name": "stdout",
     "output_type": "stream",
     "text": [
      "      annual_volatility\n",
      "date                   \n",
      "2015             0.0223\n",
      "2016             0.0845\n",
      "2017             0.0235\n",
      "2018             0.0887\n",
      "2019             0.0272\n",
      "2020             0.0944\n",
      "2021             0.0188\n",
      "2022             0.0993\n",
      "2023             0.0247\n",
      "2024             0.1040\n"
     ]
    }
   ],
   "execution_count": 337
  },
  {
   "cell_type": "markdown",
   "metadata": {},
   "source": [
    "#### 2. Volatility Estimates\n",
    "\n",
    "Using the return data, compute the annualized volatility estimate as of the last data point using the following methods:\n",
    "- EWMA volatility with a half-life of 26 weeks.\n",
    "- Rolling window volatility with a window size of 52 weeks.\n",
    "\n",
    "**Note:** do not specify a \"min_periods\" argument anywhere."
   ]
  },
  {
   "cell_type": "code",
   "metadata": {
    "ExecuteTime": {
     "end_time": "2025-10-21T01:18:36.022250Z",
     "start_time": "2025-10-21T01:18:36.014163Z"
    }
   },
   "source": [
    "df.index = pd.to_datetime(df.index)\n",
    "\n",
    "# assume weekly returns; if multiple columns, pick one (say the fund itself)\n",
    "rets = df.iloc[:, 0]\n",
    "\n",
    "# -------------------------------------------------------------------\n",
    "# 2️⃣ EWMA volatility (half-life = 26 weeks)\n",
    "# -------------------------------------------------------------------\n",
    "# pandas.ewm applies exponential weighting to the squared returns\n",
    "ewma_var = rets.pow(2).ewm(halflife=26).mean()\n",
    "ewma_vol = np.sqrt(ewma_var)\n",
    "\n",
    "# 3️⃣ Rolling window volatility (window = 52 weeks)\n",
    "rolling_vol = rets.rolling(window=52).std()\n",
    "\n",
    "# -------------------------------------------------------------------\n",
    "# 4️⃣ Annualize both volatilities\n",
    "# (since weekly data → multiply by sqrt(52))\n",
    "ewma_vol_annualized = ewma_vol * np.sqrt(52)\n",
    "rolling_vol_annualized = rolling_vol * np.sqrt(52)\n",
    "\n",
    "# -------------------------------------------------------------------\n",
    "# 5️⃣ Report the last data point for each\n",
    "print(\"Annualized Volatility Estimates as of the Last Data Point:\")\n",
    "print(f\"EWMA (half-life = 26 weeks): {ewma_vol_annualized.iloc[-1]:.4f}\")\n",
    "print(f\"Rolling (52-week window):   {rolling_vol_annualized.iloc[-1]:.4f}\")"
   ],
   "outputs": [
    {
     "name": "stdout",
     "output_type": "stream",
     "text": [
      "Annualized Volatility Estimates as of the Last Data Point:\n",
      "EWMA (half-life = 26 weeks): 0.1797\n",
      "Rolling (52-week window):   0.2164\n"
     ]
    }
   ],
   "execution_count": 338
  },
  {
   "cell_type": "markdown",
   "metadata": {},
   "source": [
    "#### 3. Dynamic VaR estimates\n",
    "\n",
    "Using the return data, compute the 1-week 1% VaR as of the last data point in the series.\n",
    "\n",
    "You should use two different volatility models to compute the VaR:\n",
    "- EWMA volatility with a half-life of 26 weeks.\n",
    "- Rolling-window volatility with a window of 52 weeks.\n",
    "- Empirical (expanding) VaR."
   ]
  },
  {
   "cell_type": "code",
   "metadata": {
    "ExecuteTime": {
     "end_time": "2025-10-21T01:18:36.047576Z",
     "start_time": "2025-10-21T01:18:36.037609Z"
    }
   },
   "source": [
    "from scipy.stats import norm\n",
    "df.index = pd.to_datetime(df.index)\n",
    "\n",
    "rets = df.iloc[:, 0]  # single return series\n",
    "\n",
    "# --- Constants\n",
    "z_1pct = norm.ppf(0.01)   # ≈ -2.33\n",
    "weeks_per_year = 52\n",
    "\n",
    "# -------------------------------------------------------------------\n",
    "# 2️⃣ EWMA volatility (half-life = 26 weeks)\n",
    "ewma_var = rets.pow(2).ewm(halflife=26).mean()\n",
    "ewma_vol = np.sqrt(ewma_var)\n",
    "\n",
    "# -------------------------------------------------------------------\n",
    "# 3️⃣ Rolling volatility (window = 52 weeks)\n",
    "rolling_vol = rets.rolling(window=52).std()\n",
    "\n",
    "# -------------------------------------------------------------------\n",
    "# 4️⃣ Empirical (expanding) VaR — historical quantile up to each point\n",
    "empirical_var = rets.expanding().quantile(0.01)\n",
    "\n",
    "# -------------------------------------------------------------------\n",
    "# 5️⃣ Compute VaR estimates (at 1% level, 1-week horizon)\n",
    "VaR_EWMA = -z_1pct * ewma_vol\n",
    "VaR_Rolling = -z_1pct * rolling_vol\n",
    "VaR_Empirical = -empirical_var\n",
    "\n",
    "# -------------------------------------------------------------------\n",
    "# 6️⃣ Report VaR as of the last data point\n",
    "print(\"1-week 1% VaR as of the last data point:\")\n",
    "print(f\"EWMA (half-life=26):      {VaR_EWMA.iloc[-1]:.4f}\")\n",
    "print(f\"Rolling (52-week window): {VaR_Rolling.iloc[-1]:.4f}\")\n",
    "print(f\"Empirical (expanding):    {VaR_Empirical.iloc[-1]:.4f}\")"
   ],
   "outputs": [
    {
     "name": "stdout",
     "output_type": "stream",
     "text": [
      "1-week 1% VaR as of the last data point:\n",
      "EWMA (half-life=26):      0.0580\n",
      "Rolling (52-week window): 0.0698\n",
      "Empirical (expanding):    0.0528\n"
     ]
    }
   ],
   "execution_count": 339
  },
  {
   "cell_type": "markdown",
   "metadata": {},
   "source": [
    "#### 4. Dynamic CVaR estimates\n",
    "\n",
    "Repeat Question 3, but instead compute the 1-week 1% Conditional VaR (CVaR) as of the last data point in the series using the same three methods."
   ]
  },
  {
   "cell_type": "code",
   "metadata": {
    "ExecuteTime": {
     "end_time": "2025-10-21T01:18:36.192397Z",
     "start_time": "2025-10-21T01:18:36.064206Z"
    }
   },
   "source": [
    "rets = df.iloc[:, 0]  # single return series\n",
    "\n",
    "# Constants\n",
    "z_1pct = norm.ppf(0.01)      # ≈ -2.33\n",
    "phi_z  = norm.pdf(z_1pct)    # ≈ 0.0266\n",
    "weeks_per_year = 52\n",
    "\n",
    "# -------------------------------------------------------------------\n",
    "# 2️⃣ EWMA volatility (half-life = 26 weeks)\n",
    "ewma_var = rets.pow(2).ewm(halflife=26).mean()\n",
    "ewma_vol = np.sqrt(ewma_var)\n",
    "\n",
    "# -------------------------------------------------------------------\n",
    "# 3️⃣ Rolling volatility (52-week window)\n",
    "rolling_vol = rets.rolling(window=52).std()\n",
    "\n",
    "# -------------------------------------------------------------------\n",
    "# 4️⃣ Empirical (expanding) CVaR — mean of tail losses below 1% quantile\n",
    "def expanding_cvar(series, alpha=0.01):\n",
    "    cvar = []\n",
    "    for i in range(1, len(series)+1):\n",
    "        subset = series.iloc[:i]\n",
    "        cutoff = subset.quantile(alpha)\n",
    "        tail = subset[subset <= cutoff]\n",
    "        cvar.append(tail.mean() if len(tail) > 0 else np.nan)\n",
    "    return pd.Series(cvar, index=series.index)\n",
    "\n",
    "empirical_cvar = expanding_cvar(rets, alpha=0.01)\n",
    "\n",
    "# -------------------------------------------------------------------\n",
    "# 5️⃣ Compute CVaR (1% level) for each model\n",
    "CVaR_EWMA     = -phi_z/0.01 * ewma_vol\n",
    "CVaR_Rolling  = -phi_z/0.01 * rolling_vol\n",
    "CVaR_Empirical = -empirical_cvar\n",
    "\n",
    "# -------------------------------------------------------------------\n",
    "# 6️⃣ Report as of the last data point\n",
    "print(\"1-week 1% Conditional VaR (CVaR) as of the last data point:\")\n",
    "print(f\"EWMA (half-life=26):      {CVaR_EWMA.iloc[-1]:.4f}\")\n",
    "print(f\"Rolling (52-week window): {CVaR_Rolling.iloc[-1]:.4f}\")\n",
    "print(f\"Empirical (expanding):    {CVaR_Empirical.iloc[-1]:.4f}\")"
   ],
   "outputs": [
    {
     "name": "stdout",
     "output_type": "stream",
     "text": [
      "1-week 1% Conditional VaR (CVaR) as of the last data point:\n",
      "EWMA (half-life=26):      -0.0664\n",
      "Rolling (52-week window): -0.0800\n",
      "Empirical (expanding):    0.0658\n"
     ]
    }
   ],
   "execution_count": 340
  },
  {
   "cell_type": "markdown",
   "metadata": {},
   "source": [
    "#### 5. Year Choice\n",
    "\n",
    "Suppose instead we were interested in our VaR estimates as of the end of 2023 (ie. use all data that is before 2024-01-01). Report your VaR (1-week, 1%) estimates using the same three methods as in Question 3, but now the last data point in 2023.\n",
    "\n",
    "Hint: You can use `df.loc[:'2023']` to filter the DataFrame to only include data up to the end of 2023."
   ]
  },
  {
   "cell_type": "code",
   "metadata": {
    "ExecuteTime": {
     "end_time": "2025-10-21T01:18:36.214007Z",
     "start_time": "2025-10-21T01:18:36.205967Z"
    }
   },
   "source": [
    "\n",
    "rets = df.iloc[:, 0]                      # weekly excess returns\n",
    "rets_2023 = rets.loc[:'2023']             # data through end of 2023 only\n",
    "\n",
    "# constants\n",
    "z_1pct = norm.ppf(0.01)                   # -2.33\n",
    "weeks_per_year = 52\n",
    "\n",
    "# ----------------------------------------------------------\n",
    "# 1️⃣ EWMA volatility (half-life = 26 weeks)\n",
    "ewma_var_2023 = rets_2023.pow(2).ewm(halflife=26).mean()\n",
    "ewma_vol_2023 = np.sqrt(ewma_var_2023)\n",
    "\n",
    "# ----------------------------------------------------------\n",
    "# 2️⃣ Rolling 52-week volatility\n",
    "rolling_vol_2023 = rets_2023.rolling(window=52).std()\n",
    "\n",
    "# ----------------------------------------------------------\n",
    "# 3️⃣ Expanding empirical VaR (1st percentile)\n",
    "empirical_var_2023 = rets_2023.expanding().quantile(0.01)\n",
    "\n",
    "# ----------------------------------------------------------\n",
    "# 4️⃣ Compute 1-week, 1% VaR estimates\n",
    "VaR_EWMA_2023      = -z_1pct * ewma_vol_2023\n",
    "VaR_Rolling_2023   = -z_1pct * rolling_vol_2023\n",
    "VaR_Empirical_2023 = -empirical_var_2023\n",
    "\n",
    "# ----------------------------------------------------------\n",
    "# 5️⃣ Report the values as of the last data point in 2023\n",
    "print(\"1-week 1% VaR (as of end-2023):\")\n",
    "print(f\"EWMA (half-life=26 weeks):      {VaR_EWMA_2023.iloc[-1]:.4f}\")\n",
    "print(f\"Rolling (52-week window):       {VaR_Rolling_2023.iloc[-1]:.4f}\")\n",
    "print(f\"Empirical (expanding):          {VaR_Empirical_2023.iloc[-1]:.4f}\")"
   ],
   "outputs": [
    {
     "name": "stdout",
     "output_type": "stream",
     "text": [
      "1-week 1% VaR (as of end-2023):\n",
      "EWMA (half-life=26 weeks):      0.0322\n",
      "Rolling (52-week window):       0.0166\n",
      "Empirical (expanding):          0.0496\n"
     ]
    }
   ],
   "execution_count": 341
  },
  {
   "cell_type": "markdown",
   "metadata": {},
   "source": [
    "### 6. Compare"
   ]
  },
  {
   "cell_type": "markdown",
   "metadata": {},
   "source": "What do you notice about the VaR estimates compared to those from question `2.3`?"
  },
  {
   "metadata": {
    "ExecuteTime": {
     "end_time": "2025-10-21T01:08:15.406382Z",
     "start_time": "2025-10-21T01:08:15.403688Z"
    }
   },
   "cell_type": "markdown",
   "source": "Differences come from sample cutoff effects (dropping 2024), with EWMA reacting most, Rolling lagging, and Empirical reflecting whether the worst tails occurred in 2024 or earlier."
  }
 ],
 "metadata": {
  "kernelspec": {
   "display_name": "Python 3 (ipykernel)",
   "language": "python",
   "name": "python3"
  },
  "language_info": {
   "codemirror_mode": {
    "name": "ipython",
    "version": 3
   },
   "file_extension": ".py",
   "mimetype": "text/x-python",
   "name": "python",
   "nbconvert_exporter": "python",
   "pygments_lexer": "ipython3",
   "version": "3.13.5"
  }
 },
 "nbformat": 4,
 "nbformat_minor": 4
}
